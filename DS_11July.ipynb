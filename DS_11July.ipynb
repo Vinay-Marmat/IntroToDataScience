{
 "cells": [
  {
   "cell_type": "code",
   "execution_count": 1,
   "id": "63d6e203",
   "metadata": {},
   "outputs": [],
   "source": [
    "import scipy as sp"
   ]
  },
  {
   "cell_type": "code",
   "execution_count": 2,
   "id": "e25a6638",
   "metadata": {},
   "outputs": [],
   "source": [
    "from scipy import integrate"
   ]
  },
  {
   "cell_type": "code",
   "execution_count": 4,
   "id": "b220c2a3",
   "metadata": {},
   "outputs": [],
   "source": [
    "var1 = lambda x: 2*x"
   ]
  },
  {
   "cell_type": "code",
   "execution_count": 5,
   "id": "d301028a",
   "metadata": {},
   "outputs": [
    {
     "data": {
      "text/plain": [
       "(4.0, 4.440892098500626e-14)"
      ]
     },
     "execution_count": 5,
     "metadata": {},
     "output_type": "execute_result"
    }
   ],
   "source": [
    "integrate.quad(var1,0,2)"
   ]
  },
  {
   "cell_type": "code",
   "execution_count": 6,
   "id": "06a3fb5d",
   "metadata": {},
   "outputs": [],
   "source": [
    "var2= lambda y,x: x*y**4"
   ]
  },
  {
   "cell_type": "code",
   "execution_count": 7,
   "id": "558c22d8",
   "metadata": {},
   "outputs": [
    {
     "data": {
      "text/plain": [
       "(0.4000000000000001, 4.440892098500627e-15)"
      ]
     },
     "execution_count": 7,
     "metadata": {},
     "output_type": "execute_result"
    }
   ],
   "source": [
    "integrate.dblquad(var2, 0,2,lambda x:0,lambda x:1 )"
   ]
  },
  {
   "cell_type": "code",
   "execution_count": 8,
   "id": "968a1bd5",
   "metadata": {},
   "outputs": [],
   "source": [
    "import numpy as np"
   ]
  },
  {
   "cell_type": "code",
   "execution_count": 12,
   "id": "4a2a9ca1",
   "metadata": {},
   "outputs": [],
   "source": [
    "a= np.array([1,2,3])"
   ]
  },
  {
   "cell_type": "code",
   "execution_count": 13,
   "id": "55b1dc21",
   "metadata": {},
   "outputs": [
    {
     "data": {
      "text/plain": [
       "array([1, 2, 3])"
      ]
     },
     "execution_count": 13,
     "metadata": {},
     "output_type": "execute_result"
    }
   ],
   "source": [
    "a"
   ]
  }
 ],
 "metadata": {
  "kernelspec": {
   "display_name": "Python 3",
   "language": "python",
   "name": "python3"
  },
  "language_info": {
   "codemirror_mode": {
    "name": "ipython",
    "version": 3
   },
   "file_extension": ".py",
   "mimetype": "text/x-python",
   "name": "python",
   "nbconvert_exporter": "python",
   "pygments_lexer": "ipython3",
   "version": "3.8.8"
  }
 },
 "nbformat": 4,
 "nbformat_minor": 5
}
