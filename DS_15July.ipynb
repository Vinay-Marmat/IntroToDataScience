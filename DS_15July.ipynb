{
 "cells": [
  {
   "cell_type": "code",
   "execution_count": 1,
   "id": "a18a26cd",
   "metadata": {},
   "outputs": [],
   "source": [
    "import numpy as np\n",
    "import matplotlib.pyplot as plt"
   ]
  },
  {
   "cell_type": "code",
   "execution_count": 9,
   "id": "4f9a8d57",
   "metadata": {},
   "outputs": [],
   "source": [
    "x = np.linspace(1,10,10)"
   ]
  },
  {
   "cell_type": "code",
   "execution_count": 10,
   "id": "0ab00ba5",
   "metadata": {},
   "outputs": [
    {
     "data": {
      "text/plain": [
       "array([ 1.,  2.,  3.,  4.,  5.,  6.,  7.,  8.,  9., 10.])"
      ]
     },
     "execution_count": 10,
     "metadata": {},
     "output_type": "execute_result"
    }
   ],
   "source": [
    "x"
   ]
  },
  {
   "cell_type": "code",
   "execution_count": 13,
   "id": "76ba4ce1",
   "metadata": {},
   "outputs": [],
   "source": [
    "y= np.random.randint(1,25,10)"
   ]
  },
  {
   "cell_type": "code",
   "execution_count": 14,
   "id": "58742072",
   "metadata": {},
   "outputs": [
    {
     "data": {
      "text/plain": [
       "array([ 4,  2,  5, 24, 16, 11, 18, 20, 15, 18])"
      ]
     },
     "execution_count": 14,
     "metadata": {},
     "output_type": "execute_result"
    }
   ],
   "source": [
    "y"
   ]
  },
  {
   "cell_type": "code",
   "execution_count": 28,
   "id": "62cac023",
   "metadata": {},
   "outputs": [],
   "source": [
    "func1= np.polyfit(x,y,2)"
   ]
  },
  {
   "cell_type": "code",
   "execution_count": 29,
   "id": "feee15f1",
   "metadata": {},
   "outputs": [
    {
     "data": {
      "text/plain": [
       "array([-0.35227273,  5.50530303, -3.41666667])"
      ]
     },
     "execution_count": 29,
     "metadata": {},
     "output_type": "execute_result"
    }
   ],
   "source": [
    "func1"
   ]
  },
  {
   "cell_type": "code",
   "execution_count": 30,
   "id": "289140b7",
   "metadata": {},
   "outputs": [
    {
     "data": {
      "text/plain": [
       "[<matplotlib.lines.Line2D at 0x2645f92a430>]"
      ]
     },
     "execution_count": 30,
     "metadata": {},
     "output_type": "execute_result"
    },
    {
     "data": {
      "image/png": "[encoded data removed]",
      "text/plain": [
       "<Figure size 432x288 with 1 Axes>"
      ]
     },
     "metadata": {
      "needs_background": "light"
     },
     "output_type": "display_data"
    }
   ],
   "source": [
    "plt.plot(x,y,'.')\n",
    "plt.plot(x,np.polyval(func1,x),'r--')"
   ]
  },
  {
   "cell_type": "code",
   "execution_count": 52,
   "id": "591096f2",
   "metadata": {},
   "outputs": [],
   "source": [
    "import seaborn as sns\n",
    "import matplotlib.pyplot as plt\n",
    "import pandas as pd\n",
    "from sklearn.model_selection import train_test_split\n",
    "from sklearn.linear_model import LogisticRegression\n",
    "from sklearn import metrics"
   ]
  },
  {
   "cell_type": "code",
   "execution_count": 53,
   "id": "e197e47c",
   "metadata": {},
   "outputs": [],
   "source": [
    "person = {'finance':   [4,5,6,4,5,8,7,3,9,8,4,1,10,2,3,8,5,9,7,8,2,3,4,1,5,8,6,7,4,5,2,3,8,5,4,1,2,3,9],\n",
    "          'management':[4,5,6,4,5,8,7,3,9,8,4,1,10,2,3,8,5,9,7,8,2,3,4,1,5,8,6,7,4,5,2,3,8,5,4,1,2,3,9],\n",
    "          'logistic':  [4,5,6,4,5,8,7,3,9,8,4,1,10,2,3,8,5,9,7,8,2,3,4,1,5,8,6,7,4,5,2,3,8,5,4,1,2,3,9],\n",
    "          'get_work':  [1,1,0,1,0,0,0,0,0,1,0,1,1,1,0,0,0,0,1,0,1,0,0,0,1,1,0,0,0,0,1,1,0,1,0,1,0,0,1]\n",
    "    }"
   ]
  },
  {
   "cell_type": "code",
   "execution_count": 54,
   "id": "4c643e8d",
   "metadata": {},
   "outputs": [],
   "source": [
    "Database = pd.DataFrame(person, columns=['finance','management','logistic','get_work'])"
   ]
  },
  {
   "cell_type": "code",
   "execution_count": 60,
   "id": "02758929",
   "metadata": {},
   "outputs": [],
   "source": [
    "X=Database[['finance','management','logistic']]"
   ]
  },
  {
   "cell_type": "code",
   "execution_count": 61,
   "id": "c45f4f69",
   "metadata": {},
   "outputs": [],
   "source": [
    "Y=Database['get_work']"
   ]
  },
  {
   "cell_type": "code",
   "execution_count": 62,
   "id": "59f3086d",
   "metadata": {},
   "outputs": [],
   "source": [
    "X_train,X_test,Y_train,Y_test = train_test_split(X,Y,test_size=0.3,random_state=0)"
   ]
  },
  {
   "cell_type": "code",
   "execution_count": 65,
   "id": "036a0680",
   "metadata": {},
   "outputs": [],
   "source": [
    "lr=LogisticRegression()"
   ]
  },
  {
   "cell_type": "code",
   "execution_count": 66,
   "id": "547721ce",
   "metadata": {},
   "outputs": [
    {
     "data": {
      "text/plain": [
       "LogisticRegression()"
      ]
     },
     "execution_count": 66,
     "metadata": {},
     "output_type": "execute_result"
    }
   ],
   "source": [
    "lr.fit(X_train,Y_train)"
   ]
  },
  {
   "cell_type": "code",
   "execution_count": 67,
   "id": "8d186f65",
   "metadata": {},
   "outputs": [],
   "source": [
    "y_prediction=lr.predict(X_test)"
   ]
  },
  {
   "cell_type": "code",
   "execution_count": 69,
   "id": "a8714618",
   "metadata": {},
   "outputs": [],
   "source": [
    "conf_mat=pd.crosstab(Y_test,y_prediction,rownames=['True'],colnames=['Prevision'])"
   ]
  },
  {
   "cell_type": "code",
   "execution_count": 72,
   "id": "97c7206b",
   "metadata": {},
   "outputs": [
    {
     "data": {
      "text/html": [
       "<div>\n",
       "<style scoped>\n",
       "    .dataframe tbody tr th:only-of-type {\n",
       "        vertical-align: middle;\n",
       "    }\n",
       "\n",
       "    .dataframe tbody tr th {\n",
       "        vertical-align: top;\n",
       "    }\n",
       "\n",
       "    .dataframe thead th {\n",
       "        text-align: right;\n",
       "    }\n",
       "</style>\n",
       "<table border=\"1\" class=\"dataframe\">\n",
       "  <thead>\n",
       "    <tr style=\"text-align: right;\">\n",
       "      <th>Prevision</th>\n",
       "      <th>0</th>\n",
       "      <th>1</th>\n",
       "    </tr>\n",
       "    <tr>\n",
       "      <th>True</th>\n",
       "      <th></th>\n",
       "      <th></th>\n",
       "    </tr>\n",
       "  </thead>\n",
       "  <tbody>\n",
       "    <tr>\n",
       "      <th>0</th>\n",
       "      <td>8</td>\n",
       "      <td>0</td>\n",
       "    </tr>\n",
       "    <tr>\n",
       "      <th>1</th>\n",
       "      <td>3</td>\n",
       "      <td>1</td>\n",
       "    </tr>\n",
       "  </tbody>\n",
       "</table>\n",
       "</div>"
      ],
      "text/plain": [
       "Prevision  0  1\n",
       "True           \n",
       "0          8  0\n",
       "1          3  1"
      ]
     },
     "execution_count": 72,
     "metadata": {},
     "output_type": "execute_result"
    }
   ],
   "source": [
    "conf_mat"
   ]
  },
  {
   "cell_type": "code",
   "execution_count": 71,
   "id": "6a1ae302",
   "metadata": {},
   "outputs": [
    {
     "data": {
      "text/plain": [
       "0.75"
      ]
     },
     "execution_count": 71,
     "metadata": {},
     "output_type": "execute_result"
    },
    {
     "data": {
      "image/png": "[encoded data removed]",
      "text/plain": [
       "<Figure size 432x288 with 2 Axes>"
      ]
     },
     "metadata": {
      "needs_background": "light"
     },
     "output_type": "display_data"
    }
   ],
   "source": [
    "sns.heatmap(conf_mat,annot=True)\n",
    "metrics.accuracy_score(Y_test,y_prediction)"
   ]
  }
 ],
 "metadata": {
  "kernelspec": {
   "display_name": "Python 3",
   "language": "python",
   "name": "python3"
  },
  "language_info": {
   "codemirror_mode": {
    "name": "ipython",
    "version": 3
   },
   "file_extension": ".py",
   "mimetype": "text/x-python",
   "name": "python",
   "nbconvert_exporter": "python",
   "pygments_lexer": "ipython3",
   "version": "3.8.8"
  }
 },
 "nbformat": 4,
 "nbformat_minor": 5
}
